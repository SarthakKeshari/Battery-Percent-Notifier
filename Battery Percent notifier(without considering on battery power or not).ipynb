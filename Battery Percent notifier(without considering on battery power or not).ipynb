{
 "cells": [
  {
   "cell_type": "code",
   "execution_count": 1,
   "id": "6b85c9f7",
   "metadata": {},
   "outputs": [],
   "source": [
    "import psutil\n",
    "from plyer import notification\n",
    "import time"
   ]
  },
  {
   "cell_type": "code",
   "execution_count": null,
   "id": "80578590",
   "metadata": {},
   "outputs": [],
   "source": [
    "while(True):\n",
    "    battery = psutil.sensors_battery()\n",
    "    percent = battery.percent\n",
    "     \n",
    "    if(percent < 10):\n",
    "        notification.notify(\n",
    "        title=\"Battery Status\",\n",
    "        message=str(percent)+\"% Battery remaining. IT'S URGENT attach charger\",\n",
    "        timeout=10)\n",
    "        time.sleep(30)\n",
    "        \n",
    "    elif(percent<15):\n",
    "        notification.notify(\n",
    "        title=\"Battery Status\",\n",
    "        message=str(percent)+\"% Battery remaining. Attach charger\",\n",
    "        timeout=10)\n",
    "        time.sleep(60)\n",
    "    \n",
    "    elif(percent>95):\n",
    "        notification.notify(\n",
    "        title=\"Battery Status\",\n",
    "        message=\"Remove Charger\",\n",
    "        timeout=10)\n",
    "        time.sleep(30)\n",
    "        \n",
    "    else:\n",
    "        notification.notify(\n",
    "        title=\"Battery Status\",\n",
    "        message=str(percent)+\"% Battery remaining\",\n",
    "        timeout=10)\n",
    "        time.sleep(60*30)"
   ]
  }
 ],
 "metadata": {
  "kernelspec": {
   "display_name": "Python 3",
   "language": "python",
   "name": "python3"
  },
  "language_info": {
   "codemirror_mode": {
    "name": "ipython",
    "version": 3
   },
   "file_extension": ".py",
   "mimetype": "text/x-python",
   "name": "python",
   "nbconvert_exporter": "python",
   "pygments_lexer": "ipython3",
   "version": "3.6.13"
  }
 },
 "nbformat": 4,
 "nbformat_minor": 5
}
