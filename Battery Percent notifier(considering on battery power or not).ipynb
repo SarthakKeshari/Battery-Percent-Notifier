{
 "cells": [
  {
   "cell_type": "code",
   "execution_count": 1,
   "id": "65b32b11",
   "metadata": {},
   "outputs": [],
   "source": [
    "import ctypes\n",
    "from ctypes import wintypes\n",
    "import time\n",
    "from win10toast import ToastNotifier"
   ]
  },
  {
   "cell_type": "code",
   "execution_count": null,
   "id": "7e6f441d",
   "metadata": {},
   "outputs": [],
   "source": [
    "import ctypes\n",
    "from ctypes import wintypes\n",
    "\n",
    "class SYSTEM_POWER_STATUS(ctypes.Structure):\n",
    "    _fields_ = [\n",
    "        ('ACLineStatus', wintypes.BYTE),\n",
    "        ('BatteryFlag', wintypes.BYTE),\n",
    "        ('BatteryLifePercent', wintypes.BYTE),\n",
    "    ]\n",
    "\n",
    "\n",
    "\n",
    "SYSTEM_POWER_STATUS_P = ctypes.POINTER(SYSTEM_POWER_STATUS)\n",
    "\n",
    "GetSystemPowerStatus = ctypes.windll.kernel32.GetSystemPowerStatus\n",
    "GetSystemPowerStatus.argtypes = [SYSTEM_POWER_STATUS_P]\n",
    "GetSystemPowerStatus.restype = wintypes.BOOL\n",
    "\n",
    "status = SYSTEM_POWER_STATUS()\n",
    "if not GetSystemPowerStatus(ctypes.pointer(status)):\n",
    "    raise ctypes.WinError()\n",
    "\n",
    "battery_percent = status.BatteryLifePercent\n",
    "toaster = ToastNotifier()\n",
    "\n",
    "\n",
    "if(1-status.ACLineStatus): # Checking if power is plugged in or not\n",
    "    if(battery_percent < 10):\n",
    "        toaster.show_toast(\"Battery Status\",\n",
    "                   str(battery_percent)+\"% Battery remaining. IT'S URGENT attach charger\",\n",
    "                   icon_path=\"battery.ico\",\n",
    "                   duration=10)\n",
    "\n",
    "        time.sleep(30)\n",
    "\n",
    "    elif(battery_percent<15):\n",
    "        toaster.show_toast(\"Battery Status\",\n",
    "                   str(battery_percent)+\"% Battery remaining. Attach charger\",\n",
    "                   icon_path=\"battery.ico\",\n",
    "                   duration=10)\n",
    "        time.sleep(60)\n",
    "\n",
    "    else:\n",
    "        toaster.show_toast(\"Battery Status\",\n",
    "                   str(battery_percent)+\"% Battery remaining.\",\n",
    "                   icon_path=\"battery.ico\",\n",
    "                   duration=10)\n",
    "        time.sleep(60*20)\n",
    "\n",
    "else:\n",
    "    if(battery_percent>95):\n",
    "        toaster.show_toast(\"Battery Status\",\n",
    "                   str(battery_percent)+\"% Battery remaining. REMOVE Charger\",\n",
    "                   icon_path=\"battery.ico\",\n",
    "                   duration=10)\n",
    "        time.sleep(60) \n"
   ]
  },
  {
   "cell_type": "code",
   "execution_count": null,
   "id": "359bcc37",
   "metadata": {},
   "outputs": [],
   "source": []
  },
  {
   "cell_type": "code",
   "execution_count": null,
   "id": "04e7e0db",
   "metadata": {},
   "outputs": [],
   "source": []
  }
 ],
 "metadata": {
  "kernelspec": {
   "display_name": "Python 3",
   "language": "python",
   "name": "python3"
  },
  "language_info": {
   "codemirror_mode": {
    "name": "ipython",
    "version": 3
   },
   "file_extension": ".py",
   "mimetype": "text/x-python",
   "name": "python",
   "nbconvert_exporter": "python",
   "pygments_lexer": "ipython3",
   "version": "3.6.13"
  }
 },
 "nbformat": 4,
 "nbformat_minor": 5
}
